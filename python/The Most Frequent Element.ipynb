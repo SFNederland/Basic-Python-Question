{
 "cells": [
  {
   "cell_type": "markdown",
   "id": "35b06e89",
   "metadata": {},
   "source": [
    "##### The Most Frequent Element\n",
    "Find out the most frequent number and its frequency.\n",
    "\n",
    "Write a program that;\n",
    "- Finds out the most frequent number in the given list.\n",
    "- Calculates its frequency.\n"
   ]
  },
  {
   "cell_type": "code",
   "execution_count": 1,
   "id": "c1278e68",
   "metadata": {},
   "outputs": [
    {
     "name": "stdout",
     "output_type": "stream",
     "text": [
      "The most frequent number is 3 and it was 4 times repeated.\n"
     ]
    }
   ],
   "source": [
    "numbers = [1, 3, 7, 4, 3, 0, 3, 6, 3]\n",
    "again_lot = max(numbers, key = numbers.count)\n",
    "again_num = numbers.count(again_lot)\n",
    "print(\"The most frequent number is {} and it was {} times repeated.\".format(again_lot,again_num))"
   ]
  }
 ],
 "metadata": {
  "kernelspec": {
   "display_name": "Python 3",
   "language": "python",
   "name": "python3"
  },
  "language_info": {
   "codemirror_mode": {
    "name": "ipython",
    "version": 3
   },
   "file_extension": ".py",
   "mimetype": "text/x-python",
   "name": "python",
   "nbconvert_exporter": "python",
   "pygments_lexer": "ipython3",
   "version": "3.8.8"
  }
 },
 "nbformat": 4,
 "nbformat_minor": 5
}
