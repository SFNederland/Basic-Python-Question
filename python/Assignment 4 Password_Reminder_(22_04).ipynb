{
  "nbformat": 4,
  "nbformat_minor": 0,
  "metadata": {
    "colab": {
      "name": "Assignment- Password Reminder (22.04)",
      "provenance": []
    },
    "kernelspec": {
      "name": "python3",
      "display_name": "Python 3"
    },
    "language_info": {
      "name": "python"
    }
  },
  "cells": [
    {
      "cell_type": "code",
      "metadata": {
        "id": "fzY1ChQxqrXd"
      },
      "source": [
        "\"\"\"Assignment- Password Reminder\"\"\"\n",
        "\n",
        "password = \"goodworld\"\n",
        "user = \"Salih\"\n",
        "enter_user = input(\"Please Enter User Name: \").title()\n",
        "if user == enter_user :\n",
        "  print(\"Hello {}! Your pasword = {}\".format(user, password))\n",
        "else:\n",
        "  print(\"Hello {}! See you later\".format(enter_user))"
      ],
      "execution_count": null,
      "outputs": []
    },
    {
      "cell_type": "code",
      "metadata": {
        "id": "dtw6Wd9hqszf"
      },
      "source": [
        ""
      ],
      "execution_count": null,
      "outputs": []
    }
  ]
}