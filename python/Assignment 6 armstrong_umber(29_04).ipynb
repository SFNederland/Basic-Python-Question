{
  "nbformat": 4,
  "nbformat_minor": 0,
  "metadata": {
    "colab": {
      "name": "armstrong umber(29.04)",
      "provenance": [],
      "collapsed_sections": []
    },
    "kernelspec": {
      "name": "python3",
      "display_name": "Python 3"
    },
    "language_info": {
      "name": "python"
    }
  },
  "cells": [
    {
      "cell_type": "code",
      "metadata": {
        "id": "ApsAH-_NWhHx"
      },
      "source": [
        "while True :\n",
        "    number = input(\"enter a positive number :\")\n",
        "    digits = len(number)\n",
        "    summ = 0\n",
        "    if not number.isdigit() :\n",
        "        print(number, \"is invalid entry. enter numberic value!\")\n",
        "    elif int(number) >= 0 :\n",
        "        for i in range(digits) :\n",
        "            summ = summ + int(number[i]) ** digits\n",
        "        if summ == int(number) :\n",
        "            print(number, \"is an Armstrong Number:\")\n",
        "            break\n",
        "        else :\n",
        "            print(number, \"is not an Armstrong Number:\")\n",
        "            break\n",
        "\n"
      ],
      "execution_count": null,
      "outputs": []
    }
  ]
}