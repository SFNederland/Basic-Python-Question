{
  "nbformat": 4,
  "nbformat_minor": 0,
  "metadata": {
    "colab": {
      "name": "Assignment 1 (The Most Frequent Element)",
      "provenance": []
    },
    "kernelspec": {
      "name": "python3",
      "display_name": "Python 3"
    },
    "language_info": {
      "name": "python"
    }
  },
  "cells": [
    {
      "cell_type": "code",
      "metadata": {
        "colab": {
          "base_uri": "https://localhost:8080/"
        },
        "id": "fzY1ChQxqrXd",
        "outputId": "bb9b485a-08cf-4b21-a498-b3c83d13bc52"
      },
      "source": [
        "\"\"\"Assignment 1 (The Most Frequent Element)\"\"\"\n",
        "\n",
        "#After finishing the task correctly, then submit your answer (code) as plain text which shows you did correctly.\n",
        "#Task : Find out the most frequent number and its frequency.\n",
        "\n",
        "#Write a program that;\n",
        "\n",
        "#Finds out the most frequent number in the given list.\n",
        "#Calculates its frequency.\n",
        "#Prints out the result such as :\n",
        "\n",
        "numbers = [1, 3, 7, 4, 3, 0, 3, 6, 3]\n",
        "tekrar_cok = max(numbers, key = numbers.count)\n",
        "tekrar_kac = numbers.count(tekrar_cok)\n",
        "print(\"the most frequent number is {} and it was {} times repeated\".format(tekrar_cok,tekrar_kac))"
      ],
      "execution_count": 1,
      "outputs": [
        {
          "output_type": "stream",
          "text": [
            "the most frequent number is 3 and it was 4 times repeated\n"
          ],
          "name": "stdout"
        }
      ]
    },
    {
      "cell_type": "code",
      "metadata": {
        "id": "dtw6Wd9hqszf"
      },
      "source": [
        ""
      ],
      "execution_count": null,
      "outputs": []
    }
  ]
}