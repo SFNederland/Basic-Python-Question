{
  "nbformat": 4,
  "nbformat_minor": 0,
  "metadata": {
    "colab": {
      "name": "Assignment2b (Profit Calculation)13.04",
      "provenance": []
    },
    "kernelspec": {
      "name": "python3",
      "display_name": "Python 3"
    },
    "language_info": {
      "name": "python"
    }
  },
  "cells": [
    {
      "cell_type": "code",
      "metadata": {
        "colab": {
          "base_uri": "https://localhost:8080/"
        },
        "id": "fzY1ChQxqrXd",
        "outputId": "11f4422c-b9d8-4a41-d1bf-adbf8372d303"
      },
      "source": [
        "\"\"\"Assignment2b (Profit Calculation)13.04\"\"\"\n",
        "\n",
        "# Your boss wants you to prepare the payrolls of the workers in your department.\n",
        "# You have to convert the amount of dollars into payroll format.\n",
        "# In order to help move things along, you have volunteered to write a code that\n",
        "# will take a float and return the money in the following format\n",
        "\n",
        "ali_maas= 3\n",
        "recep_maas= 29.99\n",
        "salih_maas =4.1\n",
        "\n",
        "liste_maas = \"ali'nin maası $%.2f recebin maası $%.2f salihin maası $%.2f\" % (ali_maas,recep_maas,salih_maas)\n",
        "print(liste_maas)\n"
      ],
      "execution_count": 3,
      "outputs": [
        {
          "output_type": "stream",
          "text": [
            "ali'nin maası $3.00 recebin maası $29.99 salihin maası $4.10\n"
          ],
          "name": "stdout"
        }
      ]
    },
    {
      "cell_type": "code",
      "metadata": {
        "id": "dtw6Wd9hqszf"
      },
      "source": [
        ""
      ],
      "execution_count": null,
      "outputs": []
    }
  ]
}