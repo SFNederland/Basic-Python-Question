{
  "nbformat": 4,
  "nbformat_minor": 0,
  "metadata": {
    "colab": {
      "name": "Leap Year (16.05.2021)",
      "provenance": []
    },
    "kernelspec": {
      "name": "python3",
      "display_name": "Python 3"
    },
    "language_info": {
      "name": "python"
    }
  },
  "cells": [
    {
      "cell_type": "code",
      "metadata": {
        "id": "5ShEE6BxMqAP",
        "outputId": "94fa932f-425c-4018-e1b5-40303044b319",
        "colab": {
          "base_uri": "https://localhost:8080/"
        }
      },
      "source": [
        "year = int(input(\"Please enter a year: \"))\n",
        "if year % 400 == 0 or ( year % 4 == 0 and year % 100 != 0):\n",
        "    print(f\"{year} is a leap year\")\n",
        "else:\n",
        "    print(f\"{year} is not a leap year\")"
      ],
      "execution_count": 2,
      "outputs": [
        {
          "output_type": "stream",
          "text": [
            "Please enter a year: 1996\n",
            "1996 is a leap year\n"
          ],
          "name": "stdout"
        }
      ]
    }
  ]
}