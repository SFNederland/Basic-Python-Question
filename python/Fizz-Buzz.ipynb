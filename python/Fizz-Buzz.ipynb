{
 "cells": [
  {
   "cell_type": "markdown",
   "id": "86358a0c",
   "metadata": {},
   "source": [
    "### Fizz-Buzz\n",
    "\n",
    "**Task:** 3'e tam bölünebilen sayılara Fizz, 5'e tam bölünebilen sayılara Buzz, 15'e tam bölünebilen sayılara Fizz-Buzz yazdırın."
   ]
  },
  {
   "cell_type": "code",
   "execution_count": 1,
   "id": "d15eb4c8",
   "metadata": {
    "scrolled": false
   },
   "outputs": [
    {
     "name": "stdout",
     "output_type": "stream",
     "text": [
      "1\n",
      "2\n",
      "Fizz\n",
      "4\n",
      "Buzz\n",
      "Fizz\n",
      "7\n",
      "8\n",
      "Fizz\n",
      "Buzz\n",
      "11\n",
      "Fizz\n",
      "13\n",
      "14\n",
      "FizzBuzz\n"
     ]
    }
   ],
   "source": [
    "for i in range(1,16):\n",
    "  if not i%3 and i%5 != 0 :\n",
    "    print(\"Fizz\")\n",
    "  elif i%5 == 0 and i%3 != 0 :\n",
    "    print(\"Buzz\")\n",
    "  elif i%15 == 0:\n",
    "    print(\"FizzBuzz\")\n",
    "  else:\n",
    "    print(i)"
   ]
  }
 ],
 "metadata": {
  "kernelspec": {
   "display_name": "Python 3",
   "language": "python",
   "name": "python3"
  },
  "language_info": {
   "codemirror_mode": {
    "name": "ipython",
    "version": 3
   },
   "file_extension": ".py",
   "mimetype": "text/x-python",
   "name": "python",
   "nbconvert_exporter": "python",
   "pygments_lexer": "ipython3",
   "version": "3.8.8"
  }
 },
 "nbformat": 4,
 "nbformat_minor": 5
}
