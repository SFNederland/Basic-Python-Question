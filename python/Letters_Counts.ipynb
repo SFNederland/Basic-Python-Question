{
  "nbformat": 4,
  "nbformat_minor": 0,
  "metadata": {
    "colab": {
      "name": "Letters Counts",
      "provenance": []
    },
    "kernelspec": {
      "name": "python3",
      "display_name": "Python 3"
    },
    "language_info": {
      "name": "python"
    }
  },
  "cells": [
    {
      "cell_type": "code",
      "metadata": {
        "id": "hbJLSiCFxiEQ"
      },
      "source": [
        "sentence = input(\"Please enter the sentence: \")\n",
        "letter = {}\n",
        "for i in sentence:\n",
        "    if i in letter.keys():\n",
        "        letter[i]+=1\n",
        "    else:\n",
        "        letter[i] = 1\n",
        "print(letter)\n"
      ],
      "execution_count": null,
      "outputs": []
    }
  ]
}