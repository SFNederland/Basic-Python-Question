{
 "cells": [
  {
   "cell_type": "markdown",
   "id": "d7ab3028",
   "metadata": {},
   "source": [
    "**Password Reminder**"
   ]
  },
  {
   "cell_type": "code",
   "execution_count": 1,
   "id": "d1a44f23",
   "metadata": {},
   "outputs": [
    {
     "name": "stdout",
     "output_type": "stream",
     "text": [
      "Please Enter User Name: Python\n",
      "Hello Python! Your pasword : 'goodworld'\n"
     ]
    }
   ],
   "source": [
    "password = \"goodworld\"\n",
    "user = \"Python\"\n",
    "enter_user = input(\"Please Enter User Name: \").title()\n",
    "if user == enter_user :\n",
    "  print(\"Hello {}! Your pasword : '{}'\".format(user, password))\n",
    "else:\n",
    "  print(\"Hello {}! See you later\".format(enter_user))"
   ]
  }
 ],
 "metadata": {
  "kernelspec": {
   "display_name": "Python 3",
   "language": "python",
   "name": "python3"
  },
  "language_info": {
   "codemirror_mode": {
    "name": "ipython",
    "version": 3
   },
   "file_extension": ".py",
   "mimetype": "text/x-python",
   "name": "python",
   "nbconvert_exporter": "python",
   "pygments_lexer": "ipython3",
   "version": "3.8.8"
  }
 },
 "nbformat": 4,
 "nbformat_minor": 5
}
