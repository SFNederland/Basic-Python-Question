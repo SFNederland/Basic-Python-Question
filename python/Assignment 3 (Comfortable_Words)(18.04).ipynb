{
  "nbformat": 4,
  "nbformat_minor": 0,
  "metadata": {
    "colab": {
      "name": "Assignment-3 (Comfortable Words)",
      "provenance": []
    },
    "kernelspec": {
      "name": "python3",
      "display_name": "Python 3"
    },
    "language_info": {
      "name": "python"
    }
  },
  "cells": [
    {
      "cell_type": "code",
      "metadata": {
        "id": "fzY1ChQxqrXd"
      },
      "source": [
        "\"\"\"Assignment-008/3 (Comfortable Words)\"\"\"\n",
        "\n",
        "#Task : Find out if the given word is \"comfortable words\" in relation to the ten-finger keyboard use.\n",
        "\n",
        "#A comfortable word is a word which you can type always alternating the hand you type with (assuming you type using a Q-keyboard and use of the ten-fingers standard).\n",
        "#The word will always be a string consisting of only letters from a to z.\n",
        "#Write a program which returns True if it's a comfortable word or False otherwise.\n",
        "\n",
        "\n",
        "left_hand = set('qwertasdfgyxcvb')\n",
        "right_hand = set('zuiophjklnm')\n",
        "word = set(input(\" Please write your word: \"))\n",
        "left_check = word.intersection(left_hand)\n",
        "right_check = word.intersection(right_hand)\n",
        "if left_check and right_check:\n",
        "       print(\"Your word is comfortable\")\n",
        "else:\n",
        "       print(\"Your word is not comfortable\")\n"
      ],
      "execution_count": null,
      "outputs": []
    },
    {
      "cell_type": "code",
      "metadata": {
        "id": "dtw6Wd9hqszf"
      },
      "source": [
        ""
      ],
      "execution_count": null,
      "outputs": []
    }
  ]
}