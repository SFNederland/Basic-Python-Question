{
  "nbformat": 4,
  "nbformat_minor": 0,
  "metadata": {
    "colab": {
      "name": "Assignment2 (Profit Calculation)",
      "provenance": []
    },
    "kernelspec": {
      "name": "python3",
      "display_name": "Python 3"
    },
    "language_info": {
      "name": "python"
    }
  },
  "cells": [
    {
      "cell_type": "code",
      "metadata": {
        "colab": {
          "base_uri": "https://localhost:8080/"
        },
        "id": "fzY1ChQxqrXd",
        "outputId": "4fc0f3e2-7f1f-48ab-b5d1-026c68224779"
      },
      "source": [
        "\"\"\"Assignment2 (Profit Calculation)\"\"\"\n",
        "\n",
        "# After finishing the tasks correctly, then submit your answers (codes) as plain text which shows you did correctly.\n",
        "# Leave two empty lines between your answers (regarding two tasks).\n",
        "# Task - 1 :\n",
        "# You work for a manufacturer as a programmer and have been asked to calculate the total profit made on the sales of a product.\n",
        "# You are given a dictionary (sales) containing the cost price per unit (in dollars),\n",
        "# sell price per unit (in dollars),and the beginning inventory. \n",
        "# Write a program to return the total profit made, rounded to the nearest dollar. Assume all of the inventory has been sold.\n",
        "# The name and the keys of the dictionary are constant, so use them as they are.\n",
        "\n",
        "sales = {\n",
        "  \"cost_value\": 31.87,\n",
        "  \"sell_value\": 45.00,\n",
        "  \"inventory\": 1000\n",
        "} \n",
        "\n",
        "total_profit= (float(sales[\"sell_value\"]) - float(sales[\"cost_value\"])) * float(sales[\"inventory\"])\n",
        "print(round(total_profit))\n"
      ],
      "execution_count": 2,
      "outputs": [
        {
          "output_type": "stream",
          "text": [
            "13130\n"
          ],
          "name": "stdout"
        }
      ]
    },
    {
      "cell_type": "code",
      "metadata": {
        "id": "dtw6Wd9hqszf"
      },
      "source": [
        ""
      ],
      "execution_count": null,
      "outputs": []
    }
  ]
}