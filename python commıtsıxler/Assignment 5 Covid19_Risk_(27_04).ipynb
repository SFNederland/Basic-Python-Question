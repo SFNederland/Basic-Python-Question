{
  "nbformat": 4,
  "nbformat_minor": 0,
  "metadata": {
    "colab": {
      "name": "Assignment- Covid19 Risk (27.04)",
      "provenance": []
    },
    "kernelspec": {
      "name": "python3",
      "display_name": "Python 3"
    },
    "language_info": {
      "name": "python"
    }
  },
  "cells": [
    {
      "cell_type": "code",
      "metadata": {
        "id": "fzY1ChQxqrXd"
      },
      "source": [
        "\"\"\"Assignment- Covid19 Risk\n",
        "\n",
        "Estimating the risk of death from coronavirus. Write a program that;\n",
        "Takes \"Yes\" or \"No\" from the user as an answer to the following questions :\n",
        "Are you a cigarette addict older than 75 years old? Variable → age\n",
        "Do you have a severe chronic disease? Variable → chronic\n",
        "Is your immune system too weak? Variable → immune\n",
        "\n",
        "Set a logical algorithm using boolean logic operators (and/or) and\n",
        "use if-statements with the given variables in order to print out us a message : \"You are in risky group\"(if True ) or \"You are not in risky group\" (if False).\n",
        "\"\"\"\n",
        "# 1.çözüm\n",
        "age = input(\"Are you a cigarette addict older than 75 years old? (Only Yes/No) :\").title()\n",
        "chronic = input(\"Do you have a severe chronic disease? (Only Yes/No) :\").title()\n",
        "immune = input(\"Is your immune system too weak? (Only Yes/No) : \").title()\n",
        "\n",
        "if age == \"Yes\" and chronic == \"Yes\" and immune == \"Yes\":\n",
        "  print(\"You are in risky group\")\n",
        "else:\n",
        "  print(\"You are not in risky group\")\n",
        "\n",
        "# -----------------------------------\n",
        "\n",
        "#2.çözüm\n",
        "while True :\n",
        "  age = input(\"Are you a cigarette addict older than 75 years old? (Only Yes/No) :\").title()\n",
        "  chronic = input(\"Do you have a severe chronic disease? (Only Yes/No) :\").title()\n",
        "  immune = input(\"Is your immune system too weak? (Only Yes/No) : \").title()\n",
        "  if (age != \"Yes\" and age != \"No\") or (chronic != \"Yes\" and chronic != \"No\")  or (immune != \"Yes\" and immune != \"No\"):\n",
        "   print(\"Please You could enter correct word\")\n",
        "  elif age == \"Yes\" and chronic == \"Yes\" and immune == \"Yes\":\n",
        "    print(\"You are in risky group\")\n",
        "    break\n",
        "  else :\n",
        "   print(\"You are not in risky group\")\n",
        "   break\n"
      ],
      "execution_count": null,
      "outputs": []
    },
    {
      "cell_type": "code",
      "metadata": {
        "id": "dtw6Wd9hqszf"
      },
      "source": [
        ""
      ],
      "execution_count": null,
      "outputs": []
    }
  ]
}